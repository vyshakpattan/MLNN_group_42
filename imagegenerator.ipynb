{
  "cells": [
    {
      "cell_type": "code",
      "execution_count": 11,
      "metadata": {
        "id": "ooTCiyxMOz9w"
      },
      "outputs": [],
      "source": [
        "import tensorflow as tf\n",
        "from tensorflow import keras\n",
        "from tensorflow.keras import layers\n",
        "import os\n",
        "import cv2\n",
        "import numpy as np\n",
        "import matplotlib.pyplot as plt\n",
        "from tensorflow.keras.preprocessing.image import ImageDataGenerator\n",
        "from PIL import Image\n",
        "from tensorflow.keras.optimizers import SGD, Adam, RMSprop\n",
        "from tensorflow.keras.regularizers import l2\n"
      ]
    },
    {
      "cell_type": "code",
      "execution_count": 5,
      "metadata": {
        "colab": {
          "base_uri": "https://localhost:8080/"
        },
        "id": "3Rt4ox22PHvL",
        "outputId": "d85ce5cf-4a2e-4afa-d497-a3718d0b13de"
      },
      "outputs": [
        {
          "output_type": "stream",
          "name": "stdout",
          "text": [
            "Mounted at /content/drive\n"
          ]
        }
      ],
      "source": [
        "from google.colab import drive\n",
        "drive.mount('/content/drive')"
      ]
    },
    {
      "cell_type": "code",
      "execution_count": 6,
      "metadata": {
        "id": "VmFW_6UwSnjB"
      },
      "outputs": [],
      "source": [
        "train_datagen = ImageDataGenerator(rescale=1./255)\n",
        "test_datagen = ImageDataGenerator(rescale=1./255)"
      ]
    },
    {
      "cell_type": "code",
      "execution_count": null,
      "metadata": {
        "id": "lSYJVl1TTClH"
      },
      "outputs": [],
      "source": [
        "from tensorflow.python import train\n",
        "# Load the real and fake galaxy images from the directories\n",
        "train_dir = '/content/drive/MyDrive/Group_Project_Data/Train'\n",
        "test_dir = '/content/drive/MyDrive/Group_Project_Data/Valid'\n",
        "\n",
        "\n",
        "train_generator = train_datagen.flow_from_directory(train_dir,target_size=(64, 64), batch_size=128, class_mode='binary',color_mode='grayscale')\n",
        "\n",
        "test_generator = test_datagen.flow_from_directory(test_dir,target_size=(64, 64), batch_size=128, class_mode='binary',color_mode='grayscale')\n",
        "#train images are loaded\n",
        "x_train=[]\n",
        "y_train=[]\n",
        "\n",
        "for i in range(len(train_generator)):\n",
        "  batch_x,batch_y=next(train_generator)\n",
        "  x_train.append(batch_x)\n",
        "  y_train.append(batch_y)\n",
        "\n",
        "x_train=np.concatenate(x_train,axis=0)\n",
        "y_train=np.concatenate(y_train,axis=0)\n",
        "#test images are loaded\n",
        "x_test=[]\n",
        "y_test=[]\n",
        "\n",
        "for i in range(len(test_generator)):\n",
        "  batch_x,batch_y=next(test_generator)\n",
        "  x_test.append(batch_x)\n",
        "  y_test.append(batch_y)\n",
        "x_test=np.concatenate(x_test,axis=0)\n",
        "y_test=np.concatenate(y_test,axis=0)\n",
        "\n"
      ]
    },
    {
      "cell_type": "code",
      "execution_count": 12,
      "metadata": {
        "colab": {
          "base_uri": "https://localhost:8080/",
          "height": 472
        },
        "id": "O0ChvGt3I-NK",
        "outputId": "deb24544-6377-44c4-8109-becedcce9282"
      },
      "outputs": [
        {
          "output_type": "stream",
          "name": "stdout",
          "text": [
            "(64, 64, 1)\n"
          ]
        },
        {
          "output_type": "execute_result",
          "data": {
            "text/plain": [
              "<matplotlib.image.AxesImage at 0x7f8ee5b30190>"
            ]
          },
          "metadata": {},
          "execution_count": 12
        },
        {
          "output_type": "display_data",
          "data": {
            "text/plain": [
              "<Figure size 480x480 with 1 Axes>"
            ],
            "image/png": "[encoded data removed]"
          },
          "metadata": {}
        }
      ],
      "source": [
        "print(x_train[0].shape)\n",
        "plt.matshow(x_train[0])"
      ]
    },
    {
      "cell_type": "code",
      "execution_count": 13,
      "metadata": {
        "colab": {
          "base_uri": "https://localhost:8080/"
        },
        "id": "dYDvEEnAt6a-",
        "outputId": "3c3bfddc-ebce-409e-fe53-79d68721dcde"
      },
      "outputs": [
        {
          "output_type": "stream",
          "name": "stdout",
          "text": [
            "Model: \"sequential\"\n",
            "_________________________________________________________________\n",
            " Layer (type)                Output Shape              Param #   \n",
            "=================================================================\n",
            " conv2d (Conv2D)             (None, 62, 62, 32)        320       \n",
            "                                                                 \n",
            " max_pooling2d (MaxPooling2D  (None, 31, 31, 32)       0         \n",
            " )                                                               \n",
            "                                                                 \n",
            " conv2d_1 (Conv2D)           (None, 29, 29, 64)        18496     \n",
            "                                                                 \n",
            " max_pooling2d_1 (MaxPooling  (None, 14, 14, 64)       0         \n",
            " 2D)                                                             \n",
            "                                                                 \n",
            " conv2d_2 (Conv2D)           (None, 12, 12, 128)       73856     \n",
            "                                                                 \n",
            " max_pooling2d_2 (MaxPooling  (None, 6, 6, 128)        0         \n",
            " 2D)                                                             \n",
            "                                                                 \n",
            " flatten (Flatten)           (None, 4608)              0         \n",
            "                                                                 \n",
            " dense (Dense)               (None, 128)               589952    \n",
            "                                                                 \n",
            " dropout (Dropout)           (None, 128)               0         \n",
            "                                                                 \n",
            " dense_1 (Dense)             (None, 64)                8256      \n",
            "                                                                 \n",
            " dropout_1 (Dropout)         (None, 64)                0         \n",
            "                                                                 \n",
            " dense_2 (Dense)             (None, 1)                 65        \n",
            "                                                                 \n",
            "=================================================================\n",
            "Total params: 690,945\n",
            "Trainable params: 690,945\n",
            "Non-trainable params: 0\n",
            "_________________________________________________________________\n"
          ]
        }
      ],
      "source": [
        "from tensorflow.keras import layers, models, optimizers, losses, callbacks,\\\n",
        "                             regularizers,Sequential\n",
        "from tensorflow.keras.layers import Conv2D, MaxPooling2D, Flatten, Dense, InputLayer, Dropout\n",
        "\n",
        "\n",
        "model = Sequential()\n",
        "\n",
        "# Input layer\n",
        "model.add(InputLayer(input_shape=(64, 64, 1)))\n",
        "\n",
        "# Convolutional layer 1\n",
        "model.add(Conv2D(filters=32, kernel_size=(3, 3), activation='relu'))\n",
        "model.add(MaxPooling2D(pool_size=(2, 2)))\n",
        "\n",
        "# Convolutional layer 2\n",
        "model.add(Conv2D(filters=64, kernel_size=(3, 3), activation='relu'))\n",
        "model.add(MaxPooling2D(pool_size=(2, 2)))\n",
        "\n",
        "# Convolutional layer 3\n",
        "model.add(Conv2D(filters=128, kernel_size=(3, 3), activation='relu', kernel_regularizer=l2(0.001)))\n",
        "model.add(MaxPooling2D(pool_size=(2, 2)))\n",
        "\n",
        "\n",
        "# Flatten layer\n",
        "model.add(Flatten())\n",
        "\n",
        "# Dense layer 1\n",
        "model.add(Dense(units=128, activation='relu', kernel_regularizer=l2(0.001)))\n",
        "\n",
        "# Dropout layer\n",
        "model.add(Dropout(0.25))\n",
        "\n",
        "# Dense layer 2\n",
        "model.add(Dense(units=64, activation='relu'))\n",
        "\n",
        "# Dropout layer\n",
        "model.add(Dropout(0.25))\n",
        "\n",
        "# Output layer\n",
        "model.add(Dense(units=1, activation='sigmoid'))\n",
        "\n",
        "model.summary()\n"
      ]
    },
    {
      "cell_type": "code",
      "execution_count": 14,
      "metadata": {
        "id": "rEINFhTYA1bt"
      },
      "outputs": [],
      "source": [
        "# Compile the model\n",
        "model.compile(optimizer=Adam(learning_rate=0.01),\n",
        "              loss='binary_crossentropy',\n",
        "              metrics=['accuracy'])\n"
      ]
    },
    {
      "cell_type": "code",
      "execution_count": 15,
      "metadata": {
        "colab": {
          "base_uri": "https://localhost:8080/"
        },
        "id": "vfXwnND0Cp7A",
        "outputId": "75608393-5b89-4154-939d-3aa90ddf1550"
      },
      "outputs": [
        {
          "output_type": "stream",
          "name": "stdout",
          "text": [
            "Epoch 1/25\n",
            "47/47 [==============================] - 13s 30ms/step - loss: 0.7632 - accuracy: 0.5063 - val_loss: 0.6917 - val_accuracy: 0.4975\n",
            "Epoch 2/25\n",
            "47/47 [==============================] - 1s 15ms/step - loss: 0.3767 - accuracy: 0.8308 - val_loss: 0.0791 - val_accuracy: 0.9805\n",
            "Epoch 3/25\n",
            "47/47 [==============================] - 1s 17ms/step - loss: 0.0827 - accuracy: 0.9783 - val_loss: 0.0333 - val_accuracy: 0.9940\n",
            "Epoch 4/25\n",
            "47/47 [==============================] - 1s 17ms/step - loss: 0.0343 - accuracy: 0.9928 - val_loss: 0.0273 - val_accuracy: 0.9955\n",
            "Epoch 5/25\n",
            "47/47 [==============================] - 1s 15ms/step - loss: 0.0211 - accuracy: 0.9965 - val_loss: 0.0227 - val_accuracy: 0.9975\n",
            "Epoch 6/25\n",
            "47/47 [==============================] - 1s 15ms/step - loss: 0.0179 - accuracy: 0.9973 - val_loss: 0.0202 - val_accuracy: 0.9960\n",
            "Epoch 7/25\n",
            "47/47 [==============================] - 1s 16ms/step - loss: 0.0320 - accuracy: 0.9940 - val_loss: 0.1204 - val_accuracy: 0.9790\n",
            "Epoch 8/25\n",
            "47/47 [==============================] - 1s 17ms/step - loss: 0.3613 - accuracy: 0.9058 - val_loss: 0.0818 - val_accuracy: 0.9855\n",
            "Epoch 9/25\n",
            "47/47 [==============================] - 1s 16ms/step - loss: 0.0582 - accuracy: 0.9903 - val_loss: 0.0571 - val_accuracy: 0.9885\n",
            "Epoch 10/25\n",
            "47/47 [==============================] - 1s 18ms/step - loss: 0.0364 - accuracy: 0.9945 - val_loss: 0.0510 - val_accuracy: 0.9900\n",
            "Epoch 11/25\n",
            "47/47 [==============================] - 1s 19ms/step - loss: 0.0329 - accuracy: 0.9947 - val_loss: 0.0315 - val_accuracy: 0.9950\n",
            "Epoch 12/25\n",
            "47/47 [==============================] - 1s 18ms/step - loss: 0.0251 - accuracy: 0.9968 - val_loss: 0.0232 - val_accuracy: 0.9965\n",
            "Epoch 13/25\n",
            "47/47 [==============================] - 1s 18ms/step - loss: 0.0215 - accuracy: 0.9970 - val_loss: 0.0230 - val_accuracy: 0.9960\n",
            "Epoch 14/25\n",
            "47/47 [==============================] - 1s 17ms/step - loss: 0.0159 - accuracy: 0.9978 - val_loss: 0.0237 - val_accuracy: 0.9960\n",
            "Epoch 15/25\n",
            "47/47 [==============================] - 1s 16ms/step - loss: 0.0152 - accuracy: 0.9982 - val_loss: 0.0181 - val_accuracy: 0.9980\n",
            "Epoch 16/25\n",
            "47/47 [==============================] - 1s 16ms/step - loss: 0.0165 - accuracy: 0.9977 - val_loss: 0.0181 - val_accuracy: 0.9970\n",
            "Epoch 17/25\n",
            "47/47 [==============================] - 1s 16ms/step - loss: 0.0128 - accuracy: 0.9978 - val_loss: 0.0157 - val_accuracy: 0.9980\n",
            "Epoch 18/25\n",
            "47/47 [==============================] - 1s 17ms/step - loss: 0.0122 - accuracy: 0.9983 - val_loss: 0.0166 - val_accuracy: 0.9975\n",
            "Epoch 19/25\n",
            "47/47 [==============================] - 1s 17ms/step - loss: 0.0107 - accuracy: 0.9985 - val_loss: 0.0182 - val_accuracy: 0.9965\n",
            "Epoch 20/25\n",
            "47/47 [==============================] - 1s 16ms/step - loss: 0.0130 - accuracy: 0.9980 - val_loss: 0.0481 - val_accuracy: 0.9875\n",
            "Epoch 21/25\n",
            "47/47 [==============================] - 1s 17ms/step - loss: 0.0227 - accuracy: 0.9967 - val_loss: 0.0191 - val_accuracy: 0.9975\n",
            "Epoch 22/25\n",
            "47/47 [==============================] - 1s 19ms/step - loss: 0.0137 - accuracy: 0.9982 - val_loss: 0.0134 - val_accuracy: 0.9990\n",
            "Epoch 23/25\n",
            "47/47 [==============================] - 1s 20ms/step - loss: 0.0074 - accuracy: 0.9998 - val_loss: 0.0146 - val_accuracy: 0.9980\n",
            "Epoch 24/25\n",
            "47/47 [==============================] - 1s 20ms/step - loss: 0.0063 - accuracy: 0.9995 - val_loss: 0.0150 - val_accuracy: 0.9975\n",
            "Epoch 25/25\n",
            "47/47 [==============================] - 1s 17ms/step - loss: 0.1109 - accuracy: 0.9715 - val_loss: 0.0396 - val_accuracy: 0.9945\n"
          ]
        }
      ],
      "source": [
        "\n",
        "# Train the model\n",
        "history = model.fit(x_train, y_train,batch_size=128,epochs=25,\n",
        "                    validation_data=(x_test, y_test))"
      ]
    },
    {
      "cell_type": "code",
      "execution_count": 1,
      "metadata": {
        "colab": {
          "base_uri": "https://localhost:8080/",
          "height": 235
        },
        "id": "lD4Db3z9Cp3j",
        "outputId": "6a153523-07b7-4fdc-8f31-f9cbad95172d"
      },
      "outputs": [
        {
          "output_type": "error",
          "ename": "NameError",
          "evalue": "ignored",
          "traceback": [
            "\u001b[0;31m---------------------------------------------------------------------------\u001b[0m",
            "\u001b[0;31mNameError\u001b[0m                                 Traceback (most recent call last)",
            "\u001b[0;32m<ipython-input-1-7468de061820>\u001b[0m in \u001b[0;36m<cell line: 6>\u001b[0;34m()\u001b[0m\n\u001b[1;32m      4\u001b[0m \u001b[0;31m#new_image = cv2.resize(new_image, (64, 64))\u001b[0m\u001b[0;34m\u001b[0m\u001b[0;34m\u001b[0m\u001b[0m\n\u001b[1;32m      5\u001b[0m \u001b[0;31m#new_image = np.array([new_image])\u001b[0m\u001b[0;34m\u001b[0m\u001b[0;34m\u001b[0m\u001b[0m\n\u001b[0;32m----> 6\u001b[0;31m \u001b[0mplt\u001b[0m\u001b[0;34m.\u001b[0m\u001b[0mmatshow\u001b[0m\u001b[0;34m(\u001b[0m\u001b[0mx_test\u001b[0m\u001b[0;34m[\u001b[0m\u001b[0;36m0\u001b[0m\u001b[0;34m]\u001b[0m\u001b[0;34m)\u001b[0m\u001b[0;34m\u001b[0m\u001b[0;34m\u001b[0m\u001b[0m\n\u001b[0m\u001b[1;32m      7\u001b[0m \u001b[0;34m\u001b[0m\u001b[0m\n\u001b[1;32m      8\u001b[0m \u001b[0mprediction\u001b[0m \u001b[0;34m=\u001b[0m \u001b[0mmodel\u001b[0m\u001b[0;34m.\u001b[0m\u001b[0mpredict\u001b[0m\u001b[0;34m(\u001b[0m\u001b[0mx_test\u001b[0m\u001b[0;34m[\u001b[0m\u001b[0;36m0\u001b[0m\u001b[0;34m]\u001b[0m\u001b[0;34m)\u001b[0m\u001b[0;34m\u001b[0m\u001b[0;34m\u001b[0m\u001b[0m\n",
            "\u001b[0;31mNameError\u001b[0m: name 'plt' is not defined"
          ]
        }
      ],
      "source": [
        "# Make predictions on new images\n",
        "#new_image = cv2.imread('/content/drive/MyDrive/Documents/Group_Project_Data/Train/Fake/img_567.png')\n",
        "#print(new_image.shape)\n",
        "#new_image = cv2.resize(new_image, (64, 64))\n",
        "#new_image = np.array([new_image])\n",
        "plt.matshow(x_test[0])\n",
        "\n",
        "prediction = model.predict(x_test[0])\n",
        "print(prediction)\n",
        "if(prediction>.60):\n",
        "  print('label 1')\n",
        "  print('image is real')\n",
        "else:\n",
        "  print('label 0')\n",
        "  print('image is fake')\n",
        "\n"
      ]
    }
  ],
  "metadata": {
    "accelerator": "GPU",
    "colab": {
      "provenance": []
    },
    "gpuClass": "standard",
    "kernelspec": {
      "display_name": "Python 3",
      "name": "python3"
    },
    "language_info": {
      "name": "python"
    }
  },
  "nbformat": 4,
  "nbformat_minor": 0
}